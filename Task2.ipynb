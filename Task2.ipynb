{
  "nbformat": 4,
  "nbformat_minor": 0,
  "metadata": {
    "colab": {
      "name": "Task2",
      "provenance": [],
      "authorship_tag": "ABX9TyOsmJqDUFxyPi5nIhb6UC7w",
      "include_colab_link": true
    },
    "kernelspec": {
      "name": "python3",
      "display_name": "Python 3"
    },
    "language_info": {
      "name": "python"
    }
  },
  "cells": [
    {
      "cell_type": "markdown",
      "metadata": {
        "id": "view-in-github",
        "colab_type": "text"
      },
      "source": [
        "<a href=\"https://colab.research.google.com/github/HarshKumarChoudary/AC-Data-Analysis/blob/main/Task2.ipynb\" target=\"_parent\"><img src=\"https://colab.research.google.com/assets/colab-badge.svg\" alt=\"Open In Colab\"/></a>"
      ]
    },
    {
      "cell_type": "markdown",
      "source": [
        "***Task 2***: \n",
        "Which AC was used Most and which was used least?"
      ],
      "metadata": {
        "id": "lSn_nqvapUXH"
      }
    },
    {
      "cell_type": "markdown",
      "source": [
        "First importing all libraries and loading the dataset in to dataframe and getting its details.\n"
      ],
      "metadata": {
        "id": "ZoT6MM8vpjsx"
      }
    },
    {
      "cell_type": "code",
      "execution_count": 1,
      "metadata": {
        "colab": {
          "base_uri": "https://localhost:8080/"
        },
        "id": "2AV74Gf2oX1e",
        "outputId": "5941ecf2-f32a-47ee-bf1b-4de5980aee07"
      },
      "outputs": [
        {
          "output_type": "stream",
          "name": "stdout",
          "text": [
            "<class 'pandas.core.frame.DataFrame'>\n",
            "RangeIndex: 87840 entries, 0 to 87839\n",
            "Data columns (total 19 columns):\n",
            " #   Column  Non-Null Count  Dtype         \n",
            "---  ------  --------------  -----         \n",
            " 0   0       87840 non-null  datetime64[ns]\n",
            " 1   AC 1    43708 non-null  float64       \n",
            " 2   AC 2    43711 non-null  float64       \n",
            " 3   AC 3    43713 non-null  float64       \n",
            " 4   AC 4    43704 non-null  float64       \n",
            " 5   AC 5    43716 non-null  float64       \n",
            " 6   AC 6    43717 non-null  float64       \n",
            " 7   AC 7    43679 non-null  float64       \n",
            " 8   AC 8    43704 non-null  float64       \n",
            " 9   AC 9    43654 non-null  float64       \n",
            " 10  AC 10   43690 non-null  float64       \n",
            " 11  AC 11   43670 non-null  float64       \n",
            " 12  AC 12   43713 non-null  float64       \n",
            " 13  AC 13   43719 non-null  float64       \n",
            " 14  AC 14   43696 non-null  float64       \n",
            " 15  AC 15   43715 non-null  float64       \n",
            " 16  AC 16   43710 non-null  float64       \n",
            " 17  AC 17   43714 non-null  float64       \n",
            " 18  AC 18   43723 non-null  float64       \n",
            "dtypes: datetime64[ns](1), float64(18)\n",
            "memory usage: 12.7 MB\n",
            "                        0      AC 1      AC 2  ...     AC 16     AC 17     AC 18\n",
            "0     2019-08-01 00:00:00  7.518632  8.788315  ...  4.113460  3.305072  6.735981\n",
            "1     2019-08-01 00:01:00       NaN       NaN  ...       NaN       NaN       NaN\n",
            "2     2019-08-01 00:02:00  7.426114  8.940615  ...  3.986483  3.220588  6.379500\n",
            "3     2019-08-01 00:03:00       NaN       NaN  ...       NaN       NaN       NaN\n",
            "4     2019-08-01 00:04:00  7.052986  9.161103  ...  3.797881  3.131560  6.363475\n",
            "...                   ...       ...       ...  ...       ...       ...       ...\n",
            "87835 2019-09-30 23:55:00  0.000000  6.122385  ...  1.854352  3.027539  7.259989\n",
            "87836 2019-09-30 23:56:00       NaN       NaN  ...       NaN       NaN       NaN\n",
            "87837 2019-09-30 23:57:00  1.209176  6.152532  ...  1.870886  2.991946  7.134647\n",
            "87838 2019-09-30 23:58:00       NaN       NaN  ...       NaN       NaN       NaN\n",
            "87839 2019-09-30 23:59:00  1.430442  6.078281  ...  1.862166  3.009434  7.179719\n",
            "\n",
            "[87840 rows x 19 columns]\n"
          ]
        }
      ],
      "source": [
        "import pandas as pd\n",
        "import numpy as np\n",
        "import matplotlib.pyplot as plt\n",
        "import seaborn as sns\n",
        "%matplotlib inline\n",
        "\n",
        "df = pd.read_csv(\"/content/AC_Data.csv\",parse_dates=['0'])\n",
        "df.info()\n",
        "\n",
        "print(df)"
      ]
    },
    {
      "cell_type": "markdown",
      "source": [
        "**Pre-Processing**\n",
        "\n",
        "Data set is preprocessed to remove Null values so as to make it eligible for further analysis.\n",
        "\n",
        "We are using ***Interpolation*** method for this task."
      ],
      "metadata": {
        "id": "dBo4BTldpuH5"
      }
    },
    {
      "cell_type": "code",
      "source": [
        "for col in df.columns:\n",
        "  df[col] = df[col].interpolate(method='linear',limit_direction='forward')\n",
        "print(df)"
      ],
      "metadata": {
        "colab": {
          "base_uri": "https://localhost:8080/"
        },
        "id": "bTPdMTUsprZ8",
        "outputId": "dc8f4823-81f0-4d7a-a608-36c1f7ca49fe"
      },
      "execution_count": 2,
      "outputs": [
        {
          "output_type": "stream",
          "name": "stdout",
          "text": [
            "                        0      AC 1      AC 2  ...     AC 16     AC 17     AC 18\n",
            "0     2019-08-01 00:00:00  7.518632  8.788315  ...  4.113460  3.305072  6.735981\n",
            "1     2019-08-01 00:01:00  7.472373  8.864465  ...  4.049972  3.262830  6.557740\n",
            "2     2019-08-01 00:02:00  7.426114  8.940615  ...  3.986483  3.220588  6.379500\n",
            "3     2019-08-01 00:03:00  7.239550  9.050859  ...  3.892182  3.176074  6.371487\n",
            "4     2019-08-01 00:04:00  7.052986  9.161103  ...  3.797881  3.131560  6.363475\n",
            "...                   ...       ...       ...  ...       ...       ...       ...\n",
            "87835 2019-09-30 23:55:00  0.000000  6.122385  ...  1.854352  3.027539  7.259989\n",
            "87836 2019-09-30 23:56:00  0.604588  6.137458  ...  1.862619  3.009743  7.197318\n",
            "87837 2019-09-30 23:57:00  1.209176  6.152532  ...  1.870886  2.991946  7.134647\n",
            "87838 2019-09-30 23:58:00  1.319809  6.115407  ...  1.866526  3.000690  7.157183\n",
            "87839 2019-09-30 23:59:00  1.430442  6.078281  ...  1.862166  3.009434  7.179719\n",
            "\n",
            "[87840 rows x 19 columns]\n"
          ]
        }
      ]
    },
    {
      "cell_type": "markdown",
      "source": [
        "Resampling df to other dataframe which has dates only (time is not shown). \n",
        "\n",
        "It uses mean formula to find the mean of data of 1440 minutes and assign its value to one day."
      ],
      "metadata": {
        "id": "_Nlx2VDzqNoa"
      }
    },
    {
      "cell_type": "code",
      "source": [
        "df_in_days = df.resample('1D',on = '0').mean().reset_index()"
      ],
      "metadata": {
        "id": "i5pPD5z3qDSO"
      },
      "execution_count": 3,
      "outputs": []
    },
    {
      "cell_type": "code",
      "source": [
        "print(df_in_days)"
      ],
      "metadata": {
        "colab": {
          "base_uri": "https://localhost:8080/"
        },
        "id": "z9AIoXsvqWfc",
        "outputId": "87c45f41-f588-4551-c671-f17fc7c18823"
      },
      "execution_count": 4,
      "outputs": [
        {
          "output_type": "stream",
          "name": "stdout",
          "text": [
            "            0      AC 1      AC 2  ...     AC 16     AC 17     AC 18\n",
            "0  2019-08-01  4.311251  7.192770  ...  3.620367  4.643621  7.561096\n",
            "1  2019-08-02  3.977381  4.997287  ...  3.442106  4.444483  7.787343\n",
            "2  2019-08-03  3.254814  4.291223  ...  2.929687  4.384711  7.883526\n",
            "3  2019-08-04  4.210091  4.451087  ...  2.927226  4.555513  8.381225\n",
            "4  2019-08-05  3.536980  4.008955  ...  3.466886  3.813778  6.106891\n",
            "..        ...       ...       ...  ...       ...       ...       ...\n",
            "56 2019-09-26  3.507869  4.147379  ...  2.578243  4.331568  6.372984\n",
            "57 2019-09-27  2.299397  3.281170  ...  2.213882  4.265494  6.890618\n",
            "58 2019-09-28  1.187906  3.226275  ...  2.433880  3.242749  4.270624\n",
            "59 2019-09-29  1.133421  2.359928  ...  1.925555  3.440847  5.532254\n",
            "60 2019-09-30  1.588607  3.344281  ...  1.902732  3.484985  5.616129\n",
            "\n",
            "[61 rows x 19 columns]\n"
          ]
        }
      ]
    },
    {
      "cell_type": "code",
      "source": [
        "df_in_days.describe()"
      ],
      "metadata": {
        "colab": {
          "base_uri": "https://localhost:8080/",
          "height": 364
        },
        "id": "PBv3AP2JqYpD",
        "outputId": "1f7be07e-8528-4c63-94d3-7e07e9237b05"
      },
      "execution_count": 7,
      "outputs": [
        {
          "output_type": "execute_result",
          "data": {
            "text/html": [
              "\n",
              "  <div id=\"df-3f8a3b2c-8768-4166-81ce-e1c62ddc84b4\">\n",
              "    <div class=\"colab-df-container\">\n",
              "      <div>\n",
              "<style scoped>\n",
              "    .dataframe tbody tr th:only-of-type {\n",
              "        vertical-align: middle;\n",
              "    }\n",
              "\n",
              "    .dataframe tbody tr th {\n",
              "        vertical-align: top;\n",
              "    }\n",
              "\n",
              "    .dataframe thead th {\n",
              "        text-align: right;\n",
              "    }\n",
              "</style>\n",
              "<table border=\"1\" class=\"dataframe\">\n",
              "  <thead>\n",
              "    <tr style=\"text-align: right;\">\n",
              "      <th></th>\n",
              "      <th>AC 1</th>\n",
              "      <th>AC 2</th>\n",
              "      <th>AC 3</th>\n",
              "      <th>AC 4</th>\n",
              "      <th>AC 5</th>\n",
              "      <th>AC 6</th>\n",
              "      <th>AC 7</th>\n",
              "      <th>AC 8</th>\n",
              "      <th>AC 9</th>\n",
              "      <th>AC 10</th>\n",
              "      <th>AC 11</th>\n",
              "      <th>AC 12</th>\n",
              "      <th>AC 13</th>\n",
              "      <th>AC 14</th>\n",
              "      <th>AC 15</th>\n",
              "      <th>AC 16</th>\n",
              "      <th>AC 17</th>\n",
              "      <th>AC 18</th>\n",
              "    </tr>\n",
              "  </thead>\n",
              "  <tbody>\n",
              "    <tr>\n",
              "      <th>count</th>\n",
              "      <td>61.000000</td>\n",
              "      <td>61.000000</td>\n",
              "      <td>61.000000</td>\n",
              "      <td>61.000000</td>\n",
              "      <td>61.000000</td>\n",
              "      <td>61.000000</td>\n",
              "      <td>61.000000</td>\n",
              "      <td>61.000000</td>\n",
              "      <td>61.000000</td>\n",
              "      <td>61.000000</td>\n",
              "      <td>61.000000</td>\n",
              "      <td>61.000000</td>\n",
              "      <td>61.000000</td>\n",
              "      <td>61.000000</td>\n",
              "      <td>61.000000</td>\n",
              "      <td>61.000000</td>\n",
              "      <td>61.000000</td>\n",
              "      <td>61.000000</td>\n",
              "    </tr>\n",
              "    <tr>\n",
              "      <th>mean</th>\n",
              "      <td>2.376302</td>\n",
              "      <td>3.861889</td>\n",
              "      <td>2.565133</td>\n",
              "      <td>2.392535</td>\n",
              "      <td>1.420251</td>\n",
              "      <td>2.516540</td>\n",
              "      <td>2.977509</td>\n",
              "      <td>2.545456</td>\n",
              "      <td>3.178516</td>\n",
              "      <td>1.536174</td>\n",
              "      <td>2.405176</td>\n",
              "      <td>2.696840</td>\n",
              "      <td>4.274349</td>\n",
              "      <td>2.914119</td>\n",
              "      <td>4.040709</td>\n",
              "      <td>2.797083</td>\n",
              "      <td>4.216725</td>\n",
              "      <td>6.460183</td>\n",
              "    </tr>\n",
              "    <tr>\n",
              "      <th>std</th>\n",
              "      <td>1.515003</td>\n",
              "      <td>1.977593</td>\n",
              "      <td>0.899312</td>\n",
              "      <td>1.193802</td>\n",
              "      <td>0.308799</td>\n",
              "      <td>0.873548</td>\n",
              "      <td>0.647853</td>\n",
              "      <td>0.600964</td>\n",
              "      <td>0.671407</td>\n",
              "      <td>0.191536</td>\n",
              "      <td>0.763067</td>\n",
              "      <td>0.548498</td>\n",
              "      <td>0.855122</td>\n",
              "      <td>0.604794</td>\n",
              "      <td>1.064303</td>\n",
              "      <td>0.796101</td>\n",
              "      <td>0.373248</td>\n",
              "      <td>0.763704</td>\n",
              "    </tr>\n",
              "    <tr>\n",
              "      <th>min</th>\n",
              "      <td>0.000000</td>\n",
              "      <td>0.000000</td>\n",
              "      <td>0.982203</td>\n",
              "      <td>0.000004</td>\n",
              "      <td>0.641149</td>\n",
              "      <td>0.648824</td>\n",
              "      <td>1.610042</td>\n",
              "      <td>1.032148</td>\n",
              "      <td>2.254642</td>\n",
              "      <td>1.210765</td>\n",
              "      <td>1.301617</td>\n",
              "      <td>1.053372</td>\n",
              "      <td>2.238359</td>\n",
              "      <td>1.833380</td>\n",
              "      <td>1.466565</td>\n",
              "      <td>1.149433</td>\n",
              "      <td>3.143709</td>\n",
              "      <td>4.270624</td>\n",
              "    </tr>\n",
              "    <tr>\n",
              "      <th>25%</th>\n",
              "      <td>1.133421</td>\n",
              "      <td>2.539627</td>\n",
              "      <td>1.878803</td>\n",
              "      <td>1.582040</td>\n",
              "      <td>1.251605</td>\n",
              "      <td>2.184178</td>\n",
              "      <td>2.582738</td>\n",
              "      <td>2.226173</td>\n",
              "      <td>2.687973</td>\n",
              "      <td>1.412878</td>\n",
              "      <td>1.851320</td>\n",
              "      <td>2.353364</td>\n",
              "      <td>3.762208</td>\n",
              "      <td>2.518539</td>\n",
              "      <td>3.301314</td>\n",
              "      <td>2.356376</td>\n",
              "      <td>4.058484</td>\n",
              "      <td>5.961595</td>\n",
              "    </tr>\n",
              "    <tr>\n",
              "      <th>50%</th>\n",
              "      <td>2.299397</td>\n",
              "      <td>4.115105</td>\n",
              "      <td>2.553224</td>\n",
              "      <td>2.373011</td>\n",
              "      <td>1.435610</td>\n",
              "      <td>2.698362</td>\n",
              "      <td>3.083970</td>\n",
              "      <td>2.618462</td>\n",
              "      <td>2.969664</td>\n",
              "      <td>1.514118</td>\n",
              "      <td>2.129024</td>\n",
              "      <td>2.794134</td>\n",
              "      <td>4.390725</td>\n",
              "      <td>2.801977</td>\n",
              "      <td>4.234012</td>\n",
              "      <td>2.843963</td>\n",
              "      <td>4.292066</td>\n",
              "      <td>6.470877</td>\n",
              "    </tr>\n",
              "    <tr>\n",
              "      <th>75%</th>\n",
              "      <td>3.531463</td>\n",
              "      <td>5.003908</td>\n",
              "      <td>3.120433</td>\n",
              "      <td>3.180307</td>\n",
              "      <td>1.626277</td>\n",
              "      <td>3.070229</td>\n",
              "      <td>3.351763</td>\n",
              "      <td>2.947949</td>\n",
              "      <td>3.487181</td>\n",
              "      <td>1.644568</td>\n",
              "      <td>3.013819</td>\n",
              "      <td>3.044221</td>\n",
              "      <td>4.857186</td>\n",
              "      <td>3.280129</td>\n",
              "      <td>4.777582</td>\n",
              "      <td>3.211795</td>\n",
              "      <td>4.470109</td>\n",
              "      <td>6.783736</td>\n",
              "    </tr>\n",
              "    <tr>\n",
              "      <th>max</th>\n",
              "      <td>5.027449</td>\n",
              "      <td>7.899831</td>\n",
              "      <td>4.912729</td>\n",
              "      <td>5.122536</td>\n",
              "      <td>2.131678</td>\n",
              "      <td>4.070496</td>\n",
              "      <td>4.702395</td>\n",
              "      <td>3.774121</td>\n",
              "      <td>5.120886</td>\n",
              "      <td>2.042431</td>\n",
              "      <td>4.255027</td>\n",
              "      <td>3.762713</td>\n",
              "      <td>6.445081</td>\n",
              "      <td>4.484244</td>\n",
              "      <td>6.112208</td>\n",
              "      <td>5.126310</td>\n",
              "      <td>4.912867</td>\n",
              "      <td>8.381225</td>\n",
              "    </tr>\n",
              "  </tbody>\n",
              "</table>\n",
              "</div>\n",
              "      <button class=\"colab-df-convert\" onclick=\"convertToInteractive('df-3f8a3b2c-8768-4166-81ce-e1c62ddc84b4')\"\n",
              "              title=\"Convert this dataframe to an interactive table.\"\n",
              "              style=\"display:none;\">\n",
              "        \n",
              "  <svg xmlns=\"http://www.w3.org/2000/svg\" height=\"24px\"viewBox=\"0 0 24 24\"\n",
              "       width=\"24px\">\n",
              "    <path d=\"M0 0h24v24H0V0z\" fill=\"none\"/>\n",
              "    <path d=\"M18.56 5.44l.94 2.06.94-2.06 2.06-.94-2.06-.94-.94-2.06-.94 2.06-2.06.94zm-11 1L8.5 8.5l.94-2.06 2.06-.94-2.06-.94L8.5 2.5l-.94 2.06-2.06.94zm10 10l.94 2.06.94-2.06 2.06-.94-2.06-.94-.94-2.06-.94 2.06-2.06.94z\"/><path d=\"M17.41 7.96l-1.37-1.37c-.4-.4-.92-.59-1.43-.59-.52 0-1.04.2-1.43.59L10.3 9.45l-7.72 7.72c-.78.78-.78 2.05 0 2.83L4 21.41c.39.39.9.59 1.41.59.51 0 1.02-.2 1.41-.59l7.78-7.78 2.81-2.81c.8-.78.8-2.07 0-2.86zM5.41 20L4 18.59l7.72-7.72 1.47 1.35L5.41 20z\"/>\n",
              "  </svg>\n",
              "      </button>\n",
              "      \n",
              "  <style>\n",
              "    .colab-df-container {\n",
              "      display:flex;\n",
              "      flex-wrap:wrap;\n",
              "      gap: 12px;\n",
              "    }\n",
              "\n",
              "    .colab-df-convert {\n",
              "      background-color: #E8F0FE;\n",
              "      border: none;\n",
              "      border-radius: 50%;\n",
              "      cursor: pointer;\n",
              "      display: none;\n",
              "      fill: #1967D2;\n",
              "      height: 32px;\n",
              "      padding: 0 0 0 0;\n",
              "      width: 32px;\n",
              "    }\n",
              "\n",
              "    .colab-df-convert:hover {\n",
              "      background-color: #E2EBFA;\n",
              "      box-shadow: 0px 1px 2px rgba(60, 64, 67, 0.3), 0px 1px 3px 1px rgba(60, 64, 67, 0.15);\n",
              "      fill: #174EA6;\n",
              "    }\n",
              "\n",
              "    [theme=dark] .colab-df-convert {\n",
              "      background-color: #3B4455;\n",
              "      fill: #D2E3FC;\n",
              "    }\n",
              "\n",
              "    [theme=dark] .colab-df-convert:hover {\n",
              "      background-color: #434B5C;\n",
              "      box-shadow: 0px 1px 3px 1px rgba(0, 0, 0, 0.15);\n",
              "      filter: drop-shadow(0px 1px 2px rgba(0, 0, 0, 0.3));\n",
              "      fill: #FFFFFF;\n",
              "    }\n",
              "  </style>\n",
              "\n",
              "      <script>\n",
              "        const buttonEl =\n",
              "          document.querySelector('#df-3f8a3b2c-8768-4166-81ce-e1c62ddc84b4 button.colab-df-convert');\n",
              "        buttonEl.style.display =\n",
              "          google.colab.kernel.accessAllowed ? 'block' : 'none';\n",
              "\n",
              "        async function convertToInteractive(key) {\n",
              "          const element = document.querySelector('#df-3f8a3b2c-8768-4166-81ce-e1c62ddc84b4');\n",
              "          const dataTable =\n",
              "            await google.colab.kernel.invokeFunction('convertToInteractive',\n",
              "                                                     [key], {});\n",
              "          if (!dataTable) return;\n",
              "\n",
              "          const docLinkHtml = 'Like what you see? Visit the ' +\n",
              "            '<a target=\"_blank\" href=https://colab.research.google.com/notebooks/data_table.ipynb>data table notebook</a>'\n",
              "            + ' to learn more about interactive tables.';\n",
              "          element.innerHTML = '';\n",
              "          dataTable['output_type'] = 'display_data';\n",
              "          await google.colab.output.renderOutput(dataTable, element);\n",
              "          const docLink = document.createElement('div');\n",
              "          docLink.innerHTML = docLinkHtml;\n",
              "          element.appendChild(docLink);\n",
              "        }\n",
              "      </script>\n",
              "    </div>\n",
              "  </div>\n",
              "  "
            ],
            "text/plain": [
              "            AC 1       AC 2       AC 3  ...      AC 16      AC 17      AC 18\n",
              "count  61.000000  61.000000  61.000000  ...  61.000000  61.000000  61.000000\n",
              "mean    2.376302   3.861889   2.565133  ...   2.797083   4.216725   6.460183\n",
              "std     1.515003   1.977593   0.899312  ...   0.796101   0.373248   0.763704\n",
              "min     0.000000   0.000000   0.982203  ...   1.149433   3.143709   4.270624\n",
              "25%     1.133421   2.539627   1.878803  ...   2.356376   4.058484   5.961595\n",
              "50%     2.299397   4.115105   2.553224  ...   2.843963   4.292066   6.470877\n",
              "75%     3.531463   5.003908   3.120433  ...   3.211795   4.470109   6.783736\n",
              "max     5.027449   7.899831   4.912729  ...   5.126310   4.912867   8.381225\n",
              "\n",
              "[8 rows x 18 columns]"
            ]
          },
          "metadata": {},
          "execution_count": 7
        }
      ]
    },
    {
      "cell_type": "markdown",
      "source": [
        "Hence after describing the Dataset we could see that the mean power consumption of ACs over two month is shown.\n",
        "\n",
        "From it we can conclude that on an average over two months :-\n",
        "***\n",
        "\n",
        "\n",
        "1.   AC 5 uses the Least Power.\n",
        "2.   AC 18 uses the Max power.\n",
        "\n",
        "\n",
        "***"
      ],
      "metadata": {
        "id": "BiAMwxtoq47_"
      }
    }
  ]
}